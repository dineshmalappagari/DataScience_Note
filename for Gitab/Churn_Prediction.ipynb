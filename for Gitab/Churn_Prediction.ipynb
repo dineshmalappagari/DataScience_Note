{
 "cells": [
  {
   "cell_type": "code",
   "execution_count": 1,
   "metadata": {
    "colab": {},
    "colab_type": "code",
    "id": "ca7AWiZkN5sI"
   },
   "outputs": [],
   "source": [
    "#importing libraries \n",
    "import pandas as pd \n",
    "import numpy as np\n",
    "import matplotlib.pyplot as plt\n",
    "%matplotlib inline"
   ]
  },
  {
   "cell_type": "markdown",
   "metadata": {
    "colab_type": "text",
    "id": "6BCA_SoqN5sP"
   },
   "source": [
    "### Importing the data"
   ]
  },
  {
   "cell_type": "code",
   "execution_count": 2,
   "metadata": {
    "colab": {},
    "colab_type": "code",
    "id": "zTA0nu8YN5sR",
    "outputId": "edf134a6-ff9c-40fa-d96f-8ba3d0f697cb"
   },
   "outputs": [
    {
     "data": {
      "text/html": [
       "<div>\n",
       "<style scoped>\n",
       "    .dataframe tbody tr th:only-of-type {\n",
       "        vertical-align: middle;\n",
       "    }\n",
       "\n",
       "    .dataframe tbody tr th {\n",
       "        vertical-align: top;\n",
       "    }\n",
       "\n",
       "    .dataframe thead th {\n",
       "        text-align: right;\n",
       "    }\n",
       "</style>\n",
       "<table border=\"1\" class=\"dataframe\">\n",
       "  <thead>\n",
       "    <tr style=\"text-align: right;\">\n",
       "      <th></th>\n",
       "      <th>customer_id</th>\n",
       "      <th>vintage</th>\n",
       "      <th>age</th>\n",
       "      <th>gender</th>\n",
       "      <th>dependents</th>\n",
       "      <th>occupation</th>\n",
       "      <th>city</th>\n",
       "      <th>customer_nw_category</th>\n",
       "      <th>branch_code</th>\n",
       "      <th>days_since_last_transaction</th>\n",
       "      <th>...</th>\n",
       "      <th>previous_month_end_balance</th>\n",
       "      <th>average_monthly_balance_prevQ</th>\n",
       "      <th>average_monthly_balance_prevQ2</th>\n",
       "      <th>current_month_credit</th>\n",
       "      <th>previous_month_credit</th>\n",
       "      <th>current_month_debit</th>\n",
       "      <th>previous_month_debit</th>\n",
       "      <th>current_month_balance</th>\n",
       "      <th>previous_month_balance</th>\n",
       "      <th>churn</th>\n",
       "    </tr>\n",
       "  </thead>\n",
       "  <tbody>\n",
       "    <tr>\n",
       "      <th>0</th>\n",
       "      <td>1</td>\n",
       "      <td>3135</td>\n",
       "      <td>66</td>\n",
       "      <td>0</td>\n",
       "      <td>0.0</td>\n",
       "      <td>0</td>\n",
       "      <td>187.0</td>\n",
       "      <td>2</td>\n",
       "      <td>755</td>\n",
       "      <td>224.0</td>\n",
       "      <td>...</td>\n",
       "      <td>1458.71</td>\n",
       "      <td>1458.71</td>\n",
       "      <td>1449.07</td>\n",
       "      <td>0.20</td>\n",
       "      <td>0.20</td>\n",
       "      <td>0.20</td>\n",
       "      <td>0.20</td>\n",
       "      <td>1458.71</td>\n",
       "      <td>1458.71</td>\n",
       "      <td>0</td>\n",
       "    </tr>\n",
       "    <tr>\n",
       "      <th>1</th>\n",
       "      <td>6</td>\n",
       "      <td>2531</td>\n",
       "      <td>42</td>\n",
       "      <td>0</td>\n",
       "      <td>2.0</td>\n",
       "      <td>0</td>\n",
       "      <td>1494.0</td>\n",
       "      <td>3</td>\n",
       "      <td>388</td>\n",
       "      <td>58.0</td>\n",
       "      <td>...</td>\n",
       "      <td>1401.72</td>\n",
       "      <td>1643.31</td>\n",
       "      <td>1871.12</td>\n",
       "      <td>0.33</td>\n",
       "      <td>714.61</td>\n",
       "      <td>588.62</td>\n",
       "      <td>1538.06</td>\n",
       "      <td>1157.15</td>\n",
       "      <td>1677.16</td>\n",
       "      <td>1</td>\n",
       "    </tr>\n",
       "    <tr>\n",
       "      <th>2</th>\n",
       "      <td>7</td>\n",
       "      <td>263</td>\n",
       "      <td>42</td>\n",
       "      <td>1</td>\n",
       "      <td>0.0</td>\n",
       "      <td>0</td>\n",
       "      <td>1096.0</td>\n",
       "      <td>2</td>\n",
       "      <td>1666</td>\n",
       "      <td>60.0</td>\n",
       "      <td>...</td>\n",
       "      <td>16059.34</td>\n",
       "      <td>15211.29</td>\n",
       "      <td>13798.82</td>\n",
       "      <td>0.36</td>\n",
       "      <td>0.36</td>\n",
       "      <td>857.50</td>\n",
       "      <td>286.07</td>\n",
       "      <td>15719.44</td>\n",
       "      <td>15349.75</td>\n",
       "      <td>0</td>\n",
       "    </tr>\n",
       "    <tr>\n",
       "      <th>3</th>\n",
       "      <td>8</td>\n",
       "      <td>5922</td>\n",
       "      <td>72</td>\n",
       "      <td>0</td>\n",
       "      <td>0.0</td>\n",
       "      <td>1</td>\n",
       "      <td>1020.0</td>\n",
       "      <td>1</td>\n",
       "      <td>1</td>\n",
       "      <td>98.0</td>\n",
       "      <td>...</td>\n",
       "      <td>7714.19</td>\n",
       "      <td>7859.74</td>\n",
       "      <td>11232.37</td>\n",
       "      <td>0.64</td>\n",
       "      <td>0.64</td>\n",
       "      <td>1299.64</td>\n",
       "      <td>439.26</td>\n",
       "      <td>7076.06</td>\n",
       "      <td>7755.98</td>\n",
       "      <td>0</td>\n",
       "    </tr>\n",
       "    <tr>\n",
       "      <th>4</th>\n",
       "      <td>9</td>\n",
       "      <td>1145</td>\n",
       "      <td>46</td>\n",
       "      <td>0</td>\n",
       "      <td>0.0</td>\n",
       "      <td>0</td>\n",
       "      <td>623.0</td>\n",
       "      <td>2</td>\n",
       "      <td>317</td>\n",
       "      <td>172.0</td>\n",
       "      <td>...</td>\n",
       "      <td>8519.53</td>\n",
       "      <td>6511.82</td>\n",
       "      <td>16314.17</td>\n",
       "      <td>0.27</td>\n",
       "      <td>0.27</td>\n",
       "      <td>443.13</td>\n",
       "      <td>5688.44</td>\n",
       "      <td>8563.84</td>\n",
       "      <td>5317.04</td>\n",
       "      <td>0</td>\n",
       "    </tr>\n",
       "  </tbody>\n",
       "</table>\n",
       "<p>5 rows × 21 columns</p>\n",
       "</div>"
      ],
      "text/plain": [
       "   customer_id  vintage  age  gender  dependents  occupation    city  \\\n",
       "0            1     3135   66       0         0.0           0   187.0   \n",
       "1            6     2531   42       0         2.0           0  1494.0   \n",
       "2            7      263   42       1         0.0           0  1096.0   \n",
       "3            8     5922   72       0         0.0           1  1020.0   \n",
       "4            9     1145   46       0         0.0           0   623.0   \n",
       "\n",
       "   customer_nw_category  branch_code  days_since_last_transaction  ...  \\\n",
       "0                     2          755                        224.0  ...   \n",
       "1                     3          388                         58.0  ...   \n",
       "2                     2         1666                         60.0  ...   \n",
       "3                     1            1                         98.0  ...   \n",
       "4                     2          317                        172.0  ...   \n",
       "\n",
       "   previous_month_end_balance  average_monthly_balance_prevQ  \\\n",
       "0                     1458.71                        1458.71   \n",
       "1                     1401.72                        1643.31   \n",
       "2                    16059.34                       15211.29   \n",
       "3                     7714.19                        7859.74   \n",
       "4                     8519.53                        6511.82   \n",
       "\n",
       "   average_monthly_balance_prevQ2  current_month_credit  \\\n",
       "0                         1449.07                  0.20   \n",
       "1                         1871.12                  0.33   \n",
       "2                        13798.82                  0.36   \n",
       "3                        11232.37                  0.64   \n",
       "4                        16314.17                  0.27   \n",
       "\n",
       "   previous_month_credit  current_month_debit  previous_month_debit  \\\n",
       "0                   0.20                 0.20                  0.20   \n",
       "1                 714.61               588.62               1538.06   \n",
       "2                   0.36               857.50                286.07   \n",
       "3                   0.64              1299.64                439.26   \n",
       "4                   0.27               443.13               5688.44   \n",
       "\n",
       "   current_month_balance  previous_month_balance  churn  \n",
       "0                1458.71                 1458.71      0  \n",
       "1                1157.15                 1677.16      1  \n",
       "2               15719.44                15349.75      0  \n",
       "3                7076.06                 7755.98      0  \n",
       "4                8563.84                 5317.04      0  \n",
       "\n",
       "[5 rows x 21 columns]"
      ]
     },
     "execution_count": 2,
     "metadata": {},
     "output_type": "execute_result"
    }
   ],
   "source": [
    "data = pd.read_csv(r\"C:\\Users\\mdine\\Downloads\\Module_8_assignment\\Exercise\\churn_prediction.csv\")\n",
    "data.head()"
   ]
  },
  {
   "cell_type": "code",
   "execution_count": 3,
   "metadata": {
    "colab": {},
    "colab_type": "code",
    "id": "FrbslVVUN5sY",
    "outputId": "619a9762-3399-491f-c54e-cc37e5dd68be"
   },
   "outputs": [
    {
     "data": {
      "text/plain": [
       "customer_id                       0\n",
       "vintage                           0\n",
       "age                               0\n",
       "gender                            0\n",
       "dependents                        0\n",
       "occupation                        0\n",
       "city                              0\n",
       "customer_nw_category              0\n",
       "branch_code                       0\n",
       "days_since_last_transaction       0\n",
       "current_balance                   0\n",
       "previous_month_end_balance        0\n",
       "average_monthly_balance_prevQ     0\n",
       "average_monthly_balance_prevQ2    0\n",
       "current_month_credit              0\n",
       "previous_month_credit             0\n",
       "current_month_debit               0\n",
       "previous_month_debit              0\n",
       "current_month_balance             0\n",
       "previous_month_balance            0\n",
       "churn                             0\n",
       "dtype: int64"
      ]
     },
     "execution_count": 3,
     "metadata": {},
     "output_type": "execute_result"
    }
   ],
   "source": [
    "data.isnull().sum()"
   ]
  },
  {
   "cell_type": "markdown",
   "metadata": {
    "colab_type": "text",
    "id": "w52MM-zCN5sc"
   },
   "source": [
    "### Segregating variables - Dependent & Independent "
   ]
  },
  {
   "cell_type": "code",
   "execution_count": 3,
   "metadata": {
    "colab": {},
    "colab_type": "code",
    "id": "34yonSugN5sc"
   },
   "outputs": [],
   "source": [
    "#seperating independent and dependent variables\n",
    "\n",
    "data_x = data.drop(['churn'], axis=1)\n",
    "data_y = data['churn']"
   ]
  },
  {
   "cell_type": "markdown",
   "metadata": {
    "colab_type": "text",
    "id": "oOGwBa4hN5sh"
   },
   "source": [
    "#### Scaling the data"
   ]
  },
  {
   "cell_type": "code",
   "execution_count": 4,
   "metadata": {
    "colab": {},
    "colab_type": "code",
    "id": "pVTuxVwbN5sj"
   },
   "outputs": [],
   "source": [
    "from sklearn.model_selection import train_test_split\n",
    "train_x,test_x,train_y,test_y = train_test_split(data_x,data_y, random_state = 56)\n",
    "\n",
    "from sklearn.preprocessing import StandardScaler\n",
    "ss = StandardScaler()\n",
    "train_x = ss.fit_transform(train_x)\n",
    "test_x = ss.transform(test_x)"
   ]
  },
  {
   "cell_type": "markdown",
   "metadata": {
    "colab_type": "text",
    "id": "tGXVpmwzN5sn"
   },
   "source": [
    "### Implementing Decesion Tree"
   ]
  },
  {
   "cell_type": "markdown",
   "metadata": {
    "colab_type": "text",
    "id": "3qkfLZ0MN5so"
   },
   "source": [
    "Q1: __Fill the correct values to implement Decision Tree and find out accuracy, precision, and recall for Test Set__?"
   ]
  },
  {
   "cell_type": "code",
   "execution_count": 5,
   "metadata": {
    "colab": {},
    "colab_type": "code",
    "id": "JnL0_QzmN5sp"
   },
   "outputs": [
    {
     "name": "stdout",
     "output_type": "stream",
     "text": [
      "Test accuracy_score: 0.765452238535436\n",
      "Test precision_score: 0.4256\n",
      "Test recall_score: 0.48014440433212996\n"
     ]
    }
   ],
   "source": [
    "# Importing DecisionTreeClassifier and accuracy_score, precision_score, recall_score\n",
    "from sklearn.tree import DecisionTreeClassifier\n",
    "from sklearn.metrics import accuracy_score, precision_score, recall_score\n",
    "\n",
    "# Creating an instance of DecisionTreeClassifier\n",
    "tree = DecisionTreeClassifier()\n",
    "\n",
    "# Fitting the model (assuming you have your training data and labels)\n",
    "tree.fit(train_x, train_y)  # Replace X_train and y_train with your training data and labels\n",
    "\n",
    "# Predicting over the Test Set\n",
    "test_predict = tree.predict(test_x)  # Replace X_test with your test data\n",
    "\n",
    "# Calculating accuracy score\n",
    "accuracy = accuracy_score(test_y, test_predict)  # Replace y_test with your test labels\n",
    "\n",
    "# Calculating precision score\n",
    "precision = precision_score(test_y, test_predict)  # Replace y_test with your test labels\n",
    "\n",
    "# Calculating recall score\n",
    "recall = recall_score(test_y, test_predict)  # Replace y_test with your test labels\n",
    "\n",
    "# Printing the scores\n",
    "print('Test accuracy_score:', accuracy)\n",
    "print('Test precision_score:', precision)\n",
    "print('Test recall_score:', recall)\n"
   ]
  },
  {
   "cell_type": "markdown",
   "metadata": {
    "colab_type": "text",
    "id": "uLPeqTRlN5st"
   },
   "source": [
    "Q2: __Fill the correct values for getting Train and Test set accuracy by implementing Decision Tree with the depth range as 3-30?__"
   ]
  },
  {
   "cell_type": "code",
   "execution_count": 6,
   "metadata": {
    "colab": {},
    "colab_type": "code",
    "id": "2QO8oR7NN5st"
   },
   "outputs": [
    {
     "name": "stdout",
     "output_type": "stream",
     "text": [
      "   max_depth  Train_acc  Test_acc\n",
      "0          2   0.836737  0.831611\n",
      "1          4   0.850634  0.842306\n",
      "2          6   0.864834  0.836868\n",
      "3          8   0.882417  0.831611\n",
      "4         10   0.907976  0.830886\n"
     ]
    }
   ],
   "source": [
    "# Initialize a list of maximum depths to try\n",
    "dp_list = [2, 4, 6, 8, 10]\n",
    "\n",
    "# Initialize empty lists to store results\n",
    "train = []\n",
    "test = []\n",
    "\n",
    "for depth in dp_list:\n",
    "    # Create a Decision Tree classifier with the specified max_depth\n",
    "    tree = DecisionTreeClassifier(max_depth=depth)\n",
    "    \n",
    "    # Fit the model on the training data\n",
    "    tree.fit(train_x, train_y)  # Assuming you have train_x and train_y defined\n",
    "    \n",
    "    # Predictions on training data\n",
    "    train_prediction = tree.predict(train_x)\n",
    "    \n",
    "    # Predictions on test data\n",
    "    test_prediction = tree.predict(test_x)  # Assuming you have test_x defined\n",
    "    \n",
    "    # Calculate training and test accuracy\n",
    "    train_acc = accuracy_score(train_y, train_prediction)\n",
    "    test_acc = accuracy_score(test_y, test_prediction)  # Assuming you have test_y defined\n",
    "    \n",
    "    # Append accuracy scores to the lists\n",
    "    train.append(train_acc)\n",
    "    test.append(test_acc)\n",
    "\n",
    "# Create a DataFrame to store the results\n",
    "performance = pd.DataFrame({'max_depth': dp_list, 'Train_acc': train, 'Test_acc': test})\n",
    "\n",
    "# Print the performance DataFrame\n",
    "print(performance)\n"
   ]
  },
  {
   "cell_type": "markdown",
   "metadata": {
    "colab_type": "text",
    "id": "VFV8OGeKN5sy"
   },
   "source": [
    "Q3: __Plot the train and test set accuracy after implementing Decision Tree with the depth range as 3-30?__"
   ]
  },
  {
   "cell_type": "code",
   "execution_count": 7,
   "metadata": {
    "colab": {},
    "colab_type": "code",
    "id": "UjVzeAsNN5s0"
   },
   "outputs": [
    {
     "data": {
      "image/png": "[encoded data removed]",
      "text/plain": [
       "<Figure size 640x480 with 1 Axes>"
      ]
     },
     "metadata": {},
     "output_type": "display_data"
    }
   ],
   "source": [
    "import matplotlib.pyplot as plt\n",
    "\n",
    "# Assuming you have the 'performance' DataFrame with columns 'max_depth', 'Train_acc', and 'Test_acc'\n",
    "plt.plot(performance['max_depth'], performance['Train_acc'], label='Train')\n",
    "plt.plot(performance['max_depth'], performance['Test_acc'], label='Test')\n",
    "plt.legend()\n",
    "plt.ylabel('Accuracy')\n",
    "plt.xlabel('Maximum Depth')\n",
    "plt.title('Tree Accuracy vs Depth')\n",
    "plt.show()\n"
   ]
  },
  {
   "cell_type": "markdown",
   "metadata": {
    "colab_type": "text",
    "id": "d5LixuCwN5s4"
   },
   "source": [
    "Q4: __Implement Decision Tree with the mimimum sample leaf as 1-30 and plot the Train and Test set accuracy  ?__"
   ]
  },
  {
   "cell_type": "code",
   "execution_count": 0,
   "metadata": {
    "colab": {},
    "colab_type": "code",
    "id": "kutA9_EzN5s4"
   },
   "outputs": [],
   "source": [
    "sam_list = ??\n",
    "train = []\n",
    "test = []\n",
    "\n",
    "for sam in sam_list:\n",
    "    tree = ??\n",
    "    tree.fit(??)\n",
    "    prediction = ??\n",
    "    trainpred = ??\n",
    "    train_acc = ??\n",
    "    test_acc = ??\n",
    "    train.append(??)\n",
    "    test.append(??)\n",
    "    \n",
    "performance = pd.DataFrame({'min_samples_leaf':??,'Train_acc':??,'Test_acc':??})\n",
    "\n",
    "plt.plot(??,??, label='Train')\n",
    "plt.plot(??,??, label='Test')\n",
    "plt.legend()\n",
    "plt.ylabel('accuracy')\n",
    "plt.title('Tree accuracy vs sample leaf')\n",
    "plt.show()\n",
    "\n"
   ]
  },
  {
   "cell_type": "code",
   "execution_count": 8,
   "metadata": {},
   "outputs": [
    {
     "data": {
      "image/png": "[encoded data removed]",
      "text/plain": [
       "<Figure size 640x480 with 1 Axes>"
      ]
     },
     "metadata": {},
     "output_type": "display_data"
    },
    {
     "name": "stdout",
     "output_type": "stream",
     "text": [
      "    min_samples_leaf  Train_acc  Test_acc\n",
      "0                  1   1.000000  0.770709\n",
      "1                  2   0.971118  0.790103\n",
      "2                  3   0.954260  0.776871\n",
      "3                  4   0.935529  0.796266\n",
      "4                  5   0.927372  0.789741\n",
      "5                  6   0.916435  0.805148\n",
      "6                  7   0.910876  0.807685\n",
      "7                  8   0.905982  0.816929\n",
      "8                  9   0.902115  0.821098\n",
      "9                 10   0.897341  0.820373\n",
      "10                11   0.894743  0.817836\n",
      "11                12   0.892870  0.823636\n",
      "12                13   0.890453  0.822730\n",
      "13                14   0.888036  0.825811\n",
      "14                15   0.886707  0.828349\n",
      "15                16   0.883927  0.832155\n",
      "16                17   0.882719  0.832880\n",
      "17                18   0.881511  0.831974\n",
      "18                19   0.880121  0.834693\n",
      "19                20   0.878187  0.837049\n",
      "20                21   0.876858  0.835780\n",
      "21                22   0.876193  0.837230\n",
      "22                23   0.874562  0.836868\n",
      "23                24   0.873112  0.834874\n",
      "24                25   0.872447  0.835055\n",
      "25                26   0.872085  0.835780\n",
      "26                27   0.871601  0.836868\n",
      "27                28   0.871239  0.838318\n",
      "28                29   0.870997  0.838137\n",
      "29                30   0.870574  0.837593\n"
     ]
    }
   ],
   "source": [
    "\n",
    "\n",
    "# Initialize a list of min_samples_leaf values to try\n",
    "sam_list = list(range(1, 31))\n",
    "\n",
    "# Initialize empty lists to store results\n",
    "train = []\n",
    "test = []\n",
    "\n",
    "for sam in sam_list:\n",
    "    # Create a Decision Tree classifier with the specified min_samples_leaf\n",
    "    tree = DecisionTreeClassifier(min_samples_leaf=sam)\n",
    "    \n",
    "    # Fit the model on the training data\n",
    "    tree.fit(train_x, train_y)  # Assuming you have train_x and train_y defined\n",
    "    \n",
    "    # Predictions on training data\n",
    "    train_prediction = tree.predict(train_x)\n",
    "    \n",
    "    # Predictions on test data\n",
    "    test_prediction = tree.predict(test_x)  # Assuming you have test_x defined\n",
    "    \n",
    "    # Calculate training and test accuracy\n",
    "    train_acc = accuracy_score(train_y, train_prediction)\n",
    "    test_acc = accuracy_score(test_y, test_prediction)  # Assuming you have test_y defined\n",
    "    \n",
    "    # Append accuracy scores to the lists\n",
    "    train.append(train_acc)\n",
    "    test.append(test_acc)\n",
    "\n",
    "# Create a DataFrame to store the results\n",
    "performance = pd.DataFrame({'min_samples_leaf': sam_list, 'Train_acc': train, 'Test_acc': test})\n",
    "\n",
    "# Plot the results\n",
    "plt.plot(performance['min_samples_leaf'], performance['Train_acc'], label='Train')\n",
    "plt.plot(performance['min_samples_leaf'], performance['Test_acc'], label='Test')\n",
    "plt.legend()\n",
    "plt.ylabel('Accuracy')\n",
    "plt.xlabel('Minimum Samples per Leaf')\n",
    "plt.title('Tree Accuracy vs Minimum Samples per Leaf')\n",
    "plt.show()\n",
    "\n",
    "# Print the performance DataFrame\n",
    "print(performance)\n"
   ]
  },
  {
   "cell_type": "markdown",
   "metadata": {
    "colab_type": "text",
    "id": "PzSiGHwPN5s8"
   },
   "source": [
    "Q5: __Implement Decision Tree with the mimimum sample split as all even numbers between 2 and 40 and plot the Train and Test set accuracy  ?__"
   ]
  },
  {
   "cell_type": "code",
   "execution_count": 9,
   "metadata": {
    "colab": {},
    "colab_type": "code",
    "id": "wTidoLwTN5s8"
   },
   "outputs": [
    {
     "ename": "SyntaxError",
     "evalue": "unterminated string literal (detected at line 28) (3102641060.py, line 28)",
     "output_type": "error",
     "traceback": [
      "\u001b[1;36m  Cell \u001b[1;32mIn[9], line 28\u001b[1;36m\u001b[0m\n\u001b[1;33m    performance = pd.DataFrame({'min_samples_split': min_samples_split_values, 'Train_acc': train_acc, 'Test\u001b[0m\n\u001b[1;37m                                                                                                       ^\u001b[0m\n\u001b[1;31mSyntaxError\u001b[0m\u001b[1;31m:\u001b[0m unterminated string literal (detected at line 28)\n"
     ]
    }
   ],
   "source": [
    "sam_list = ??\n",
    "train = []\n",
    "test = []\n",
    "\n",
    "for sam in sam_list:\n",
    "    tree = ??\n",
    "    tree.fit(??)\n",
    "    prediction = ??\n",
    "    trainpred = ??\n",
    "    train_acc = ??\n",
    "    test_acc = ??\n",
    "    train.append(??)\n",
    "    test.append(??)\n",
    "    \n",
    "performance = pd.DataFrame({'min_samples_split':sam_list,'Train_acc':train,'Test_acc':test})\n",
    "\n",
    "plt.plot(??,??, label='Train')\n",
    "plt.plot(??,??, label='Test')\n",
    "plt.legend()\n",
    "plt.ylabel('accuracy')\n",
    "plt.title('Tree accuracy vs sample split')\n",
    "plt.show()\n",
    "\n",
    "\n"
   ]
  },
  {
   "cell_type": "code",
   "execution_count": 10,
   "metadata": {},
   "outputs": [
    {
     "data": {
      "image/png": "[encoded data removed]",
      "text/plain": [
       "<Figure size 640x480 with 1 Axes>"
      ]
     },
     "metadata": {},
     "output_type": "display_data"
    },
    {
     "name": "stdout",
     "output_type": "stream",
     "text": [
      "    min_samples_split  Train_acc  Test_acc\n",
      "0                   2   1.000000  0.767446\n",
      "1                   4   0.987130  0.771796\n",
      "2                   6   0.976133  0.776509\n",
      "3                   8   0.962840  0.783034\n",
      "4                  10   0.955408  0.784666\n",
      "5                  12   0.944894  0.782853\n",
      "6                  14   0.939940  0.784847\n",
      "7                  16   0.935227  0.791553\n",
      "8                  18   0.931299  0.795722\n",
      "9                  20   0.926707  0.798079\n",
      "10                 22   0.922296  0.799891\n",
      "11                 24   0.918731  0.801160\n",
      "12                 26   0.915952  0.804423\n",
      "13                 28   0.913051  0.806960\n",
      "14                 30   0.910211  0.808048\n",
      "15                 32   0.907432  0.812761\n",
      "16                 34   0.904653  0.813667\n",
      "17                 36   0.903505  0.813667\n",
      "18                 38   0.902477  0.813123\n",
      "19                 40   0.899033  0.814936\n"
     ]
    }
   ],
   "source": [
    "import pandas as pd\n",
    "import matplotlib.pyplot as plt\n",
    "from sklearn.tree import DecisionTreeClassifier\n",
    "from sklearn.metrics import accuracy_score\n",
    "\n",
    "# Initialize empty lists to store results\n",
    "min_samples_split_values = list(range(2, 41, 2))  # All even numbers between 2 and 40\n",
    "train_acc = []\n",
    "test_acc = []\n",
    "\n",
    "for min_samples_split in min_samples_split_values:\n",
    "    # Create a Decision Tree classifier with the specified min_samples_split\n",
    "    tree = DecisionTreeClassifier(min_samples_split=min_samples_split)\n",
    "    \n",
    "    # Fit the model on the training data\n",
    "    tree.fit(train_x, train_y)  # Assuming you have train_x and train_y defined\n",
    "    \n",
    "    # Predictions on training data\n",
    "    train_prediction = tree.predict(train_x)\n",
    "    \n",
    "    # Predictions on test data\n",
    "    test_prediction = tree.predict(test_x)  # Assuming you have test_x defined\n",
    "    \n",
    "    # Calculate training and test accuracy\n",
    "    train_accuracy = accuracy_score(train_y, train_prediction)\n",
    "    test_accuracy = accuracy_score(test_y, test_prediction)  # Assuming you have test_y defined\n",
    "    \n",
    "    # Append accuracy scores to the lists\n",
    "    train_acc.append(train_accuracy)\n",
    "    test_acc.append(test_accuracy)\n",
    "\n",
    "# Create a DataFrame to store the results\n",
    "performance = pd.DataFrame({'min_samples_split': min_samples_split_values,'Train_acc': train_acc, 'Test_acc': test_acc})\n",
    "\n",
    "# Plot the results\n",
    "plt.plot(performance['min_samples_split'], performance['Train_acc'], label='Train')\n",
    "plt.plot(performance['min_samples_split'], performance['Test_acc'], label='Test')\n",
    "plt.legend()\n",
    "plt.ylabel('Accuracy')\n",
    "plt.xlabel('Minimum Samples per Split')\n",
    "plt.title('Decision Tree Accuracy vs Minimum Samples per Split')\n",
    "plt.show()\n",
    "\n",
    "# Print the performance DataFrame\n",
    "print(performance)\n"
   ]
  },
  {
   "cell_type": "markdown",
   "metadata": {
    "colab_type": "text",
    "id": "AC73jhNLN5tA"
   },
   "source": [
    "Q6: __Implement a cross validation Decision Tree model with stratified 5 folds and make predictions for test dataset.__"
   ]
  },
  {
   "cell_type": "code",
   "execution_count": 11,
   "metadata": {
    "colab": {},
    "colab_type": "code",
    "id": "t8vCFbXUN5tA"
   },
   "outputs": [
    {
     "name": "stdout",
     "output_type": "stream",
     "text": [
      "\n",
      "1 of kfold 5\n",
      "accuracy_score 0.771635704576348\n",
      "\n",
      "2 of kfold 5\n",
      "accuracy_score 0.7673312188491165\n",
      "\n",
      "3 of kfold 5\n",
      "accuracy_score 0.7795150691139814\n",
      "\n",
      "4 of kfold 5\n",
      "accuracy_score 0.7799682755495128\n",
      "\n",
      "5 of kfold 5\n",
      "accuracy_score 0.7697711307500567\n",
      "Mean accuracy across the folds is: 0.7736442797678029\n"
     ]
    }
   ],
   "source": [
    "# a cross validation Decision Tree model with stratified 5 folds and make predictions for test dataset.\n",
    "\n",
    "from sklearn.model_selection import StratifiedKFold\n",
    "from sklearn.tree import DecisionTreeClassifier\n",
    "from sklearn.metrics import accuracy_score\n",
    "import numpy as np\n",
    "\n",
    "# Initialize variables\n",
    "i = 1\n",
    "kf = StratifiedKFold(n_splits=5, random_state=3, shuffle=True)\n",
    "accuracy_list = []\n",
    "\n",
    "# Loop through each fold\n",
    "for train_index, test_index in kf.split(data_x, data_y):\n",
    "    print('\\n{} of kfold {}'.format(i, kf.n_splits))\n",
    "    \n",
    "    # Split the data into training and validation sets\n",
    "    xtr, xvl = data_x.iloc[train_index], data_x.iloc[test_index]\n",
    "    ytr, yvl = data_y.iloc[train_index], data_y.iloc[test_index]\n",
    "    \n",
    "    # Create and train the Decision Tree model\n",
    "    model = DecisionTreeClassifier(random_state=1)\n",
    "    model.fit(xtr, ytr)\n",
    "    \n",
    "    # Make predictions on the validation set\n",
    "    pred_test = model.predict(xvl)\n",
    "    \n",
    "    # Calculate and store the accuracy score for this fold\n",
    "    score = accuracy_score(yvl, pred_test)\n",
    "    accuracy_list.append(score)\n",
    "    print('accuracy_score', score)\n",
    "    \n",
    "    i += 1\n",
    "\n",
    "# Calculate the mean accuracy across all folds\n",
    "mean_accuracy = np.mean(accuracy_list)\n",
    "print(\"Mean accuracy across the folds is:\", mean_accuracy)\n",
    " \n",
    "    "
   ]
  }
 ],
 "metadata": {
  "colab": {
   "name": "Q_Churn_Prediction.ipynb",
   "provenance": []
  },
  "kernelspec": {
   "display_name": "Python 3 (ipykernel)",
   "language": "python",
   "name": "python3"
  },
  "language_info": {
   "codemirror_mode": {
    "name": "ipython",
    "version": 3
   },
   "file_extension": ".py",
   "mimetype": "text/x-python",
   "name": "python",
   "nbconvert_exporter": "python",
   "pygments_lexer": "ipython3",
   "version": "3.10.9"
  }
 },
 "nbformat": 4,
 "nbformat_minor": 1
}
