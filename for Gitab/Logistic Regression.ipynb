{
 "cells": [
  {
   "cell_type": "markdown",
   "metadata": {
    "colab_type": "text",
    "id": "rSqlKEVmZPPg"
   },
   "source": [
    "# Logistic Regression"
   ]
  },
  {
   "cell_type": "markdown",
   "metadata": {
    "colab_type": "text",
    "id": "1xHUtGnEmNz_"
   },
   "source": [
    "## Data Dictionary\n",
    "\n",
    "There are multiple variables in the dataset which can be cleanly divided in 3 categories:\n",
    "\n",
    "### Demographic information about customers\n",
    "\n",
    "<b>customer_id</b> - Customer id\n",
    "\n",
    "<b>vintage</b> - Vintage of the customer with the bank in number of days\n",
    "\n",
    "<b>age</b> - Age of customer\n",
    "\n",
    "<b>gender</b> - Gender of customer\n",
    "\n",
    "<b>dependents</b> - Number of dependents\n",
    "\n",
    "<b>occupation</b> - Occupation of the customer \n",
    "\n",
    "<b>city</b> - City of customer (anonymised)\n",
    "\n",
    "\n",
    "### Customer Bank Relationship\n",
    "\n",
    "\n",
    "<b>customer_nw_category</b> - Net worth of customer (3:Low 2:Medium 1:High)\n",
    "\n",
    "<b>branch_code</b> - Branch Code for customer account\n",
    "\n",
    "<b>days_since_last_transaction</b> - No of Days Since Last Credit in Last 1 year\n",
    "\n",
    "\n",
    "### Transactional Information\n",
    "\n",
    "<b>current_balance</b> - Balance as of today\n",
    "\n",
    "<b>previous_month_end_balance</b> - End of Month Balance of previous month\n",
    "\n",
    "\n",
    "<b>average_monthly_balance_prevQ</b> - Average monthly balances (AMB) in Previous Quarter\n",
    "\n",
    "<b>average_monthly_balance_prevQ2</b> - Average monthly balances (AMB) in previous to previous quarter\n",
    "\n",
    "<b>current_month_credit</b> - Total Credit Amount current month\n",
    "\n",
    "<b>previous_month_credit</b> - Total Credit Amount previous month\n",
    "\n",
    "<b>current_month_debit</b> - Total Debit Amount current month\n",
    "\n",
    "<b>previous_month_debit</b> - Total Debit Amount previous month\n",
    "\n",
    "<b>current_month_balance</b> - Average Balance of current month\n",
    "\n",
    "<b>previous_month_balance</b> - Average Balance of previous month\n",
    "\n",
    "<b>churn</b> - Average balance of customer falls below minimum balance in the next quarter (1/0)"
   ]
  },
  {
   "cell_type": "markdown",
   "metadata": {
    "colab_type": "text",
    "id": "lTFVDShvZTZL"
   },
   "source": [
    "##Importing Librarires"
   ]
  },
  {
   "cell_type": "code",
   "execution_count": 1,
   "metadata": {
    "colab": {},
    "colab_type": "code",
    "id": "dXT-cBCoY8Sz"
   },
   "outputs": [],
   "source": [
    "import pandas as pd\n",
    "import numpy as np\n",
    "import matplotlib.pyplot as plt\n",
    "import warnings\n",
    "warnings.filterwarnings(action = 'ignore')\n",
    "plt.style.use(['seaborn-bright', 'dark_background'])"
   ]
  },
  {
   "cell_type": "markdown",
   "metadata": {
    "colab_type": "text",
    "id": "CHewgpLhZkWN"
   },
   "source": [
    "## Importing dataset"
   ]
  },
  {
   "cell_type": "code",
   "execution_count": 2,
   "metadata": {
    "colab": {
     "base_uri": "https://localhost:8080/",
     "height": 224
    },
    "colab_type": "code",
    "executionInfo": {
     "elapsed": 3859,
     "status": "ok",
     "timestamp": 1574326465257,
     "user": {
      "displayName": "Sharoon Saxena",
      "photoUrl": "https://lh3.googleusercontent.com/a-/AAuE7mA06b2KEfgpAIC1tQCip2ka2KqXrCY2GfWW9Fww=s64",
      "userId": "01167841530696023488"
     },
     "user_tz": -330
    },
    "id": "VS_2ddomZkB1",
    "outputId": "03423cfb-bff4-4148-d4bc-819d92c2b5f1"
   },
   "outputs": [
    {
     "data": {
      "text/html": [
       "<div>\n",
       "<style scoped>\n",
       "    .dataframe tbody tr th:only-of-type {\n",
       "        vertical-align: middle;\n",
       "    }\n",
       "\n",
       "    .dataframe tbody tr th {\n",
       "        vertical-align: top;\n",
       "    }\n",
       "\n",
       "    .dataframe thead th {\n",
       "        text-align: right;\n",
       "    }\n",
       "</style>\n",
       "<table border=\"1\" class=\"dataframe\">\n",
       "  <thead>\n",
       "    <tr style=\"text-align: right;\">\n",
       "      <th></th>\n",
       "      <th>customer_id</th>\n",
       "      <th>vintage</th>\n",
       "      <th>age</th>\n",
       "      <th>gender</th>\n",
       "      <th>dependents</th>\n",
       "      <th>occupation</th>\n",
       "      <th>city</th>\n",
       "      <th>customer_nw_category</th>\n",
       "      <th>branch_code</th>\n",
       "      <th>days_since_last_transaction</th>\n",
       "      <th>...</th>\n",
       "      <th>previous_month_end_balance</th>\n",
       "      <th>average_monthly_balance_prevQ</th>\n",
       "      <th>average_monthly_balance_prevQ2</th>\n",
       "      <th>current_month_credit</th>\n",
       "      <th>previous_month_credit</th>\n",
       "      <th>current_month_debit</th>\n",
       "      <th>previous_month_debit</th>\n",
       "      <th>current_month_balance</th>\n",
       "      <th>previous_month_balance</th>\n",
       "      <th>churn</th>\n",
       "    </tr>\n",
       "  </thead>\n",
       "  <tbody>\n",
       "    <tr>\n",
       "      <th>0</th>\n",
       "      <td>1</td>\n",
       "      <td>3135</td>\n",
       "      <td>66</td>\n",
       "      <td>0</td>\n",
       "      <td>0.0</td>\n",
       "      <td>0</td>\n",
       "      <td>187.0</td>\n",
       "      <td>2</td>\n",
       "      <td>755</td>\n",
       "      <td>224.0</td>\n",
       "      <td>...</td>\n",
       "      <td>1458.71</td>\n",
       "      <td>1458.71</td>\n",
       "      <td>1449.07</td>\n",
       "      <td>0.20</td>\n",
       "      <td>0.20</td>\n",
       "      <td>0.20</td>\n",
       "      <td>0.20</td>\n",
       "      <td>1458.71</td>\n",
       "      <td>1458.71</td>\n",
       "      <td>0</td>\n",
       "    </tr>\n",
       "    <tr>\n",
       "      <th>1</th>\n",
       "      <td>6</td>\n",
       "      <td>2531</td>\n",
       "      <td>42</td>\n",
       "      <td>0</td>\n",
       "      <td>2.0</td>\n",
       "      <td>0</td>\n",
       "      <td>1494.0</td>\n",
       "      <td>3</td>\n",
       "      <td>388</td>\n",
       "      <td>58.0</td>\n",
       "      <td>...</td>\n",
       "      <td>1401.72</td>\n",
       "      <td>1643.31</td>\n",
       "      <td>1871.12</td>\n",
       "      <td>0.33</td>\n",
       "      <td>714.61</td>\n",
       "      <td>588.62</td>\n",
       "      <td>1538.06</td>\n",
       "      <td>1157.15</td>\n",
       "      <td>1677.16</td>\n",
       "      <td>1</td>\n",
       "    </tr>\n",
       "    <tr>\n",
       "      <th>2</th>\n",
       "      <td>7</td>\n",
       "      <td>263</td>\n",
       "      <td>42</td>\n",
       "      <td>1</td>\n",
       "      <td>0.0</td>\n",
       "      <td>0</td>\n",
       "      <td>1096.0</td>\n",
       "      <td>2</td>\n",
       "      <td>1666</td>\n",
       "      <td>60.0</td>\n",
       "      <td>...</td>\n",
       "      <td>16059.34</td>\n",
       "      <td>15211.29</td>\n",
       "      <td>13798.82</td>\n",
       "      <td>0.36</td>\n",
       "      <td>0.36</td>\n",
       "      <td>857.50</td>\n",
       "      <td>286.07</td>\n",
       "      <td>15719.44</td>\n",
       "      <td>15349.75</td>\n",
       "      <td>0</td>\n",
       "    </tr>\n",
       "    <tr>\n",
       "      <th>3</th>\n",
       "      <td>8</td>\n",
       "      <td>5922</td>\n",
       "      <td>72</td>\n",
       "      <td>0</td>\n",
       "      <td>0.0</td>\n",
       "      <td>1</td>\n",
       "      <td>1020.0</td>\n",
       "      <td>1</td>\n",
       "      <td>1</td>\n",
       "      <td>98.0</td>\n",
       "      <td>...</td>\n",
       "      <td>7714.19</td>\n",
       "      <td>7859.74</td>\n",
       "      <td>11232.37</td>\n",
       "      <td>0.64</td>\n",
       "      <td>0.64</td>\n",
       "      <td>1299.64</td>\n",
       "      <td>439.26</td>\n",
       "      <td>7076.06</td>\n",
       "      <td>7755.98</td>\n",
       "      <td>0</td>\n",
       "    </tr>\n",
       "    <tr>\n",
       "      <th>4</th>\n",
       "      <td>9</td>\n",
       "      <td>1145</td>\n",
       "      <td>46</td>\n",
       "      <td>0</td>\n",
       "      <td>0.0</td>\n",
       "      <td>0</td>\n",
       "      <td>623.0</td>\n",
       "      <td>2</td>\n",
       "      <td>317</td>\n",
       "      <td>172.0</td>\n",
       "      <td>...</td>\n",
       "      <td>8519.53</td>\n",
       "      <td>6511.82</td>\n",
       "      <td>16314.17</td>\n",
       "      <td>0.27</td>\n",
       "      <td>0.27</td>\n",
       "      <td>443.13</td>\n",
       "      <td>5688.44</td>\n",
       "      <td>8563.84</td>\n",
       "      <td>5317.04</td>\n",
       "      <td>0</td>\n",
       "    </tr>\n",
       "  </tbody>\n",
       "</table>\n",
       "<p>5 rows × 21 columns</p>\n",
       "</div>"
      ],
      "text/plain": [
       "   customer_id  vintage  age  gender  dependents  occupation    city  \\\n",
       "0            1     3135   66       0         0.0           0   187.0   \n",
       "1            6     2531   42       0         2.0           0  1494.0   \n",
       "2            7      263   42       1         0.0           0  1096.0   \n",
       "3            8     5922   72       0         0.0           1  1020.0   \n",
       "4            9     1145   46       0         0.0           0   623.0   \n",
       "\n",
       "   customer_nw_category  branch_code  days_since_last_transaction  ...  \\\n",
       "0                     2          755                        224.0  ...   \n",
       "1                     3          388                         58.0  ...   \n",
       "2                     2         1666                         60.0  ...   \n",
       "3                     1            1                         98.0  ...   \n",
       "4                     2          317                        172.0  ...   \n",
       "\n",
       "   previous_month_end_balance  average_monthly_balance_prevQ  \\\n",
       "0                     1458.71                        1458.71   \n",
       "1                     1401.72                        1643.31   \n",
       "2                    16059.34                       15211.29   \n",
       "3                     7714.19                        7859.74   \n",
       "4                     8519.53                        6511.82   \n",
       "\n",
       "   average_monthly_balance_prevQ2  current_month_credit  \\\n",
       "0                         1449.07                  0.20   \n",
       "1                         1871.12                  0.33   \n",
       "2                        13798.82                  0.36   \n",
       "3                        11232.37                  0.64   \n",
       "4                        16314.17                  0.27   \n",
       "\n",
       "   previous_month_credit  current_month_debit  previous_month_debit  \\\n",
       "0                   0.20                 0.20                  0.20   \n",
       "1                 714.61               588.62               1538.06   \n",
       "2                   0.36               857.50                286.07   \n",
       "3                   0.64              1299.64                439.26   \n",
       "4                   0.27               443.13               5688.44   \n",
       "\n",
       "   current_month_balance  previous_month_balance  churn  \n",
       "0                1458.71                 1458.71      0  \n",
       "1                1157.15                 1677.16      1  \n",
       "2               15719.44                15349.75      0  \n",
       "3                7076.06                 7755.98      0  \n",
       "4                8563.84                 5317.04      0  \n",
       "\n",
       "[5 rows x 21 columns]"
      ]
     },
     "execution_count": 2,
     "metadata": {},
     "output_type": "execute_result"
    }
   ],
   "source": [
    "data = pd.read_csv(r\"C:\\Users\\mdine\\Downloads\\M7T3_helper_text\\churn_prediction_simple.csv\")\n",
    "data.head()"
   ]
  },
  {
   "cell_type": "code",
   "execution_count": 3,
   "metadata": {
    "colab": {
     "base_uri": "https://localhost:8080/",
     "height": 459
    },
    "colab_type": "code",
    "executionInfo": {
     "elapsed": 5088,
     "status": "ok",
     "timestamp": 1574326471097,
     "user": {
      "displayName": "Sharoon Saxena",
      "photoUrl": "https://lh3.googleusercontent.com/a-/AAuE7mA06b2KEfgpAIC1tQCip2ka2KqXrCY2GfWW9Fww=s64",
      "userId": "01167841530696023488"
     },
     "user_tz": -330
    },
    "id": "eA93PuqYugKo",
    "outputId": "101f3d6a-8118-4f49-970d-1974831dfe06"
   },
   "outputs": [
    {
     "name": "stdout",
     "output_type": "stream",
     "text": [
      "<class 'pandas.core.frame.DataFrame'>\n",
      "RangeIndex: 22067 entries, 0 to 22066\n",
      "Data columns (total 21 columns):\n",
      " #   Column                          Non-Null Count  Dtype  \n",
      "---  ------                          --------------  -----  \n",
      " 0   customer_id                     22067 non-null  int64  \n",
      " 1   vintage                         22067 non-null  int64  \n",
      " 2   age                             22067 non-null  int64  \n",
      " 3   gender                          22067 non-null  int64  \n",
      " 4   dependents                      22067 non-null  float64\n",
      " 5   occupation                      22067 non-null  int64  \n",
      " 6   city                            22067 non-null  float64\n",
      " 7   customer_nw_category            22067 non-null  int64  \n",
      " 8   branch_code                     22067 non-null  int64  \n",
      " 9   days_since_last_transaction     22067 non-null  float64\n",
      " 10  current_balance                 22067 non-null  float64\n",
      " 11  previous_month_end_balance      22067 non-null  float64\n",
      " 12  average_monthly_balance_prevQ   22067 non-null  float64\n",
      " 13  average_monthly_balance_prevQ2  22067 non-null  float64\n",
      " 14  current_month_credit            22067 non-null  float64\n",
      " 15  previous_month_credit           22067 non-null  float64\n",
      " 16  current_month_debit             22067 non-null  float64\n",
      " 17  previous_month_debit            22067 non-null  float64\n",
      " 18  current_month_balance           22067 non-null  float64\n",
      " 19  previous_month_balance          22067 non-null  float64\n",
      " 20  churn                           22067 non-null  int64  \n",
      "dtypes: float64(13), int64(8)\n",
      "memory usage: 3.5 MB\n"
     ]
    }
   ],
   "source": [
    "data = data.dropna()\n",
    "data.info()"
   ]
  },
  {
   "cell_type": "code",
   "execution_count": 4,
   "metadata": {
    "colab": {
     "base_uri": "https://localhost:8080/",
     "height": 68
    },
    "colab_type": "code",
    "executionInfo": {
     "elapsed": 3990,
     "status": "ok",
     "timestamp": 1574326471098,
     "user": {
      "displayName": "Sharoon Saxena",
      "photoUrl": "https://lh3.googleusercontent.com/a-/AAuE7mA06b2KEfgpAIC1tQCip2ka2KqXrCY2GfWW9Fww=s64",
      "userId": "01167841530696023488"
     },
     "user_tz": -330
    },
    "id": "w7HWNs5phgP4",
    "outputId": "1d14e7c7-b96a-421f-af5e-f0ca44e8e63f"
   },
   "outputs": [
    {
     "data": {
      "text/plain": [
       "0    0.806317\n",
       "1    0.193683\n",
       "Name: churn, dtype: float64"
      ]
     },
     "execution_count": 4,
     "metadata": {},
     "output_type": "execute_result"
    }
   ],
   "source": [
    "# checking the dataset distribution\n",
    "data['churn'].value_counts()/len(data)"
   ]
  },
  {
   "cell_type": "code",
   "execution_count": 5,
   "metadata": {
    "colab": {},
    "colab_type": "code",
    "id": "EwvruWpJfLJQ"
   },
   "outputs": [],
   "source": [
    "#separating dependent and independent varibales\n",
    "X = data.drop(columns = ['churn', 'customer_id'])\n",
    "Y = data['churn']"
   ]
  },
  {
   "cell_type": "code",
   "execution_count": 6,
   "metadata": {
    "colab": {},
    "colab_type": "code",
    "id": "fDLS1GwIVBCi"
   },
   "outputs": [],
   "source": [
    "#Scaling the dataset\n",
    "from sklearn.preprocessing import StandardScaler\n",
    "scaler = StandardScaler()\n",
    "scaled_X = scaler.fit_transform(X)"
   ]
  },
  {
   "cell_type": "code",
   "execution_count": 7,
   "metadata": {
    "colab": {
     "base_uri": "https://localhost:8080/",
     "height": 34
    },
    "colab_type": "code",
    "executionInfo": {
     "elapsed": 3799,
     "status": "ok",
     "timestamp": 1574326476900,
     "user": {
      "displayName": "Sharoon Saxena",
      "photoUrl": "https://lh3.googleusercontent.com/a-/AAuE7mA06b2KEfgpAIC1tQCip2ka2KqXrCY2GfWW9Fww=s64",
      "userId": "01167841530696023488"
     },
     "user_tz": -330
    },
    "id": "Ez20o7U-gDPM",
    "outputId": "ddd309d4-6769-4709-ce9a-d39f8331af05"
   },
   "outputs": [
    {
     "data": {
      "text/plain": [
       "((17653, 19), (4414, 19), (17653,), (4414,))"
      ]
     },
     "execution_count": 7,
     "metadata": {},
     "output_type": "execute_result"
    }
   ],
   "source": [
    "#splitting the dataset\n",
    "from sklearn.model_selection import train_test_split as tts\n",
    "x_train, x_test, y_train, y_test = tts(scaled_X, Y, train_size = 0.80, stratify = Y)\n",
    "x_train.shape, x_test.shape, y_train.shape, y_test.shape"
   ]
  },
  {
   "cell_type": "markdown",
   "metadata": {
    "colab_type": "text",
    "id": "tZbwrG4gOlLH"
   },
   "source": [
    "## Model Building, predictions and odds ratio"
   ]
  },
  {
   "cell_type": "code",
   "execution_count": 8,
   "metadata": {
    "colab": {},
    "colab_type": "code",
    "id": "N_llwn2Pdtvz"
   },
   "outputs": [],
   "source": [
    "from sklearn.linear_model import LogisticRegression as LR\n",
    "classifier = LR(class_weight = 'balanced')"
   ]
  },
  {
   "cell_type": "code",
   "execution_count": 9,
   "metadata": {
    "colab": {},
    "colab_type": "code",
    "id": "ovu6BdW5ea-T"
   },
   "outputs": [],
   "source": [
    "classifier.fit(x_train, y_train)\n",
    "predicted_values = classifier.predict(x_test)              # Predicting class\n",
    "predicted_probabilities = classifier.predict_proba(x_test) # Predicting probabilities"
   ]
  },
  {
   "cell_type": "code",
   "execution_count": 10,
   "metadata": {
    "colab": {
     "base_uri": "https://localhost:8080/",
     "height": 34
    },
    "colab_type": "code",
    "executionInfo": {
     "elapsed": 3873,
     "status": "ok",
     "timestamp": 1574326544690,
     "user": {
      "displayName": "Sharoon Saxena",
      "photoUrl": "https://lh3.googleusercontent.com/a-/AAuE7mA06b2KEfgpAIC1tQCip2ka2KqXrCY2GfWW9Fww=s64",
      "userId": "01167841530696023488"
     },
     "user_tz": -330
    },
    "id": "L9GUjiCShCZ5",
    "outputId": "d5b95adb-1cbc-42d5-aa9d-2ced66c2fd7e"
   },
   "outputs": [
    {
     "data": {
      "text/plain": [
       "array([0, 0, 0, ..., 0, 1, 1], dtype=int64)"
      ]
     },
     "execution_count": 10,
     "metadata": {},
     "output_type": "execute_result"
    }
   ],
   "source": [
    "predicted_values"
   ]
  },
  {
   "cell_type": "code",
   "execution_count": 11,
   "metadata": {
    "colab": {
     "base_uri": "https://localhost:8080/",
     "height": 136
    },
    "colab_type": "code",
    "executionInfo": {
     "elapsed": 3703,
     "status": "ok",
     "timestamp": 1574326544690,
     "user": {
      "displayName": "Sharoon Saxena",
      "photoUrl": "https://lh3.googleusercontent.com/a-/AAuE7mA06b2KEfgpAIC1tQCip2ka2KqXrCY2GfWW9Fww=s64",
      "userId": "01167841530696023488"
     },
     "user_tz": -330
    },
    "id": "cJgXO6r5hH1W",
    "outputId": "724191ea-8df9-4197-a754-ef42c586e530"
   },
   "outputs": [
    {
     "data": {
      "text/plain": [
       "(array([[0.5883616 , 0.4116384 ],\n",
       "        [0.53471622, 0.46528378],\n",
       "        [0.65807294, 0.34192706],\n",
       "        ...,\n",
       "        [0.62133194, 0.37866806],\n",
       "        [0.4999224 , 0.5000776 ],\n",
       "        [0.4077848 , 0.5922152 ]]),\n",
       " (4414, 2))"
      ]
     },
     "execution_count": 11,
     "metadata": {},
     "output_type": "execute_result"
    }
   ],
   "source": [
    "predicted_probabilities, predicted_probabilities.shape"
   ]
  },
  {
   "cell_type": "code",
   "execution_count": 12,
   "metadata": {
    "colab": {
     "base_uri": "https://localhost:8080/",
     "height": 51
    },
    "colab_type": "code",
    "executionInfo": {
     "elapsed": 2911,
     "status": "ok",
     "timestamp": 1574326544691,
     "user": {
      "displayName": "Sharoon Saxena",
      "photoUrl": "https://lh3.googleusercontent.com/a-/AAuE7mA06b2KEfgpAIC1tQCip2ka2KqXrCY2GfWW9Fww=s64",
      "userId": "01167841530696023488"
     },
     "user_tz": -330
    },
    "id": "iQ2YiXkhASv3",
    "outputId": "82eb2f72-0b63-460e-ce33-41d61024a596"
   },
   "outputs": [
    {
     "data": {
      "text/plain": [
       "array([[2646,  913],\n",
       "       [ 279,  576]], dtype=int64)"
      ]
     },
     "execution_count": 12,
     "metadata": {},
     "output_type": "execute_result"
    }
   ],
   "source": [
    "from sklearn.metrics import confusion_matrix\n",
    "cf = confusion_matrix(y_test, predicted_values)\n",
    "cf"
   ]
  },
  {
   "cell_type": "markdown",
   "metadata": {
    "colab_type": "text",
    "id": "tG5WMfOnR9P3"
   },
   "source": [
    "##Evaluation Metrics"
   ]
  },
  {
   "cell_type": "code",
   "execution_count": 13,
   "metadata": {
    "colab": {
     "base_uri": "https://localhost:8080/",
     "height": 34
    },
    "colab_type": "code",
    "executionInfo": {
     "elapsed": 984,
     "status": "ok",
     "timestamp": 1574326570831,
     "user": {
      "displayName": "Sharoon Saxena",
      "photoUrl": "https://lh3.googleusercontent.com/a-/AAuE7mA06b2KEfgpAIC1tQCip2ka2KqXrCY2GfWW9Fww=s64",
      "userId": "01167841530696023488"
     },
     "user_tz": -330
    },
    "id": "5S0xJa5GhWFC",
    "outputId": "073f749c-296d-4497-8ad1-5818b597e50e"
   },
   "outputs": [
    {
     "data": {
      "text/plain": [
       "0.7299501585863163"
      ]
     },
     "execution_count": 13,
     "metadata": {},
     "output_type": "execute_result"
    }
   ],
   "source": [
    "#Accuracy\n",
    "classifier.score(x_test, y_test)"
   ]
  },
  {
   "cell_type": "code",
   "execution_count": 14,
   "metadata": {
    "colab": {
     "base_uri": "https://localhost:8080/",
     "height": 34
    },
    "colab_type": "code",
    "executionInfo": {
     "elapsed": 1050,
     "status": "ok",
     "timestamp": 1574326583906,
     "user": {
      "displayName": "Sharoon Saxena",
      "photoUrl": "https://lh3.googleusercontent.com/a-/AAuE7mA06b2KEfgpAIC1tQCip2ka2KqXrCY2GfWW9Fww=s64",
      "userId": "01167841530696023488"
     },
     "user_tz": -330
    },
    "id": "HfbFftEMiKO4",
    "outputId": "f43ffd16-5628-4084-862d-62af3e9396fe"
   },
   "outputs": [
    {
     "data": {
      "text/plain": [
       "0.38683680322364"
      ]
     },
     "execution_count": 14,
     "metadata": {},
     "output_type": "execute_result"
    }
   ],
   "source": [
    "#calculating the precision score\n",
    "from sklearn.metrics import precision_score\n",
    "Precision = precision_score(y_test, predicted_values)\n",
    "Precision"
   ]
  },
  {
   "cell_type": "code",
   "execution_count": 15,
   "metadata": {
    "colab": {
     "base_uri": "https://localhost:8080/",
     "height": 34
    },
    "colab_type": "code",
    "executionInfo": {
     "elapsed": 966,
     "status": "ok",
     "timestamp": 1574326593989,
     "user": {
      "displayName": "Sharoon Saxena",
      "photoUrl": "https://lh3.googleusercontent.com/a-/AAuE7mA06b2KEfgpAIC1tQCip2ka2KqXrCY2GfWW9Fww=s64",
      "userId": "01167841530696023488"
     },
     "user_tz": -330
    },
    "id": "Q_eBDt2-jhX7",
    "outputId": "c613151f-bde5-4906-bb60-839b786aa8a4"
   },
   "outputs": [
    {
     "data": {
      "text/plain": [
       "0.6736842105263158"
      ]
     },
     "execution_count": 15,
     "metadata": {},
     "output_type": "execute_result"
    }
   ],
   "source": [
    "#calculating recall score\n",
    "from sklearn.metrics import recall_score\n",
    "Recall = recall_score(y_test, predicted_values)\n",
    "Recall"
   ]
  },
  {
   "cell_type": "code",
   "execution_count": 16,
   "metadata": {
    "colab": {
     "base_uri": "https://localhost:8080/",
     "height": 34
    },
    "colab_type": "code",
    "executionInfo": {
     "elapsed": 1000,
     "status": "ok",
     "timestamp": 1574326598481,
     "user": {
      "displayName": "Sharoon Saxena",
      "photoUrl": "https://lh3.googleusercontent.com/a-/AAuE7mA06b2KEfgpAIC1tQCip2ka2KqXrCY2GfWW9Fww=s64",
      "userId": "01167841530696023488"
     },
     "user_tz": -330
    },
    "id": "i--w5fTTlyx4",
    "outputId": "c610649e-dab9-4f52-b0f2-e0a4eadb52f7"
   },
   "outputs": [
    {
     "data": {
      "text/plain": [
       "0.49146757679180886"
      ]
     },
     "execution_count": 16,
     "metadata": {},
     "output_type": "execute_result"
    }
   ],
   "source": [
    "# manually calculating the f1 score\n",
    "f1 = 2/((1/Precision)+(1/Recall))\n",
    "f1"
   ]
  },
  {
   "cell_type": "code",
   "execution_count": 17,
   "metadata": {
    "colab": {
     "base_uri": "https://localhost:8080/",
     "height": 34
    },
    "colab_type": "code",
    "executionInfo": {
     "elapsed": 1030,
     "status": "ok",
     "timestamp": 1574326604696,
     "user": {
      "displayName": "Sharoon Saxena",
      "photoUrl": "https://lh3.googleusercontent.com/a-/AAuE7mA06b2KEfgpAIC1tQCip2ka2KqXrCY2GfWW9Fww=s64",
      "userId": "01167841530696023488"
     },
     "user_tz": -330
    },
    "id": "EgDowHF3k5lR",
    "outputId": "043175a2-89d4-4141-cd50-72a31ccf51ee"
   },
   "outputs": [
    {
     "data": {
      "text/plain": [
       "0.49146757679180875"
      ]
     },
     "execution_count": 17,
     "metadata": {},
     "output_type": "execute_result"
    }
   ],
   "source": [
    "#calculating the f1-score\n",
    "from sklearn.metrics import f1_score\n",
    "F1 = f1_score(y_test, predicted_values)\n",
    "F1"
   ]
  },
  {
   "cell_type": "code",
   "execution_count": 18,
   "metadata": {
    "colab": {},
    "colab_type": "code",
    "id": "LmcbBiOjmIze"
   },
   "outputs": [],
   "source": [
    "# calculating precision, recall, f1-score and support at once.\n",
    "from sklearn.metrics import precision_recall_fscore_support as PRF_summary\n",
    "precision, recall, f1, support = PRF_summary(y_test, predicted_values)"
   ]
  },
  {
   "cell_type": "code",
   "execution_count": 19,
   "metadata": {
    "colab": {
     "base_uri": "https://localhost:8080/",
     "height": 34
    },
    "colab_type": "code",
    "executionInfo": {
     "elapsed": 1070,
     "status": "ok",
     "timestamp": 1574326624873,
     "user": {
      "displayName": "Sharoon Saxena",
      "photoUrl": "https://lh3.googleusercontent.com/a-/AAuE7mA06b2KEfgpAIC1tQCip2ka2KqXrCY2GfWW9Fww=s64",
      "userId": "01167841530696023488"
     },
     "user_tz": -330
    },
    "id": "k-Kwo6MInJbs",
    "outputId": "c4e737d3-5cc5-4934-872d-b6a1693d029b"
   },
   "outputs": [
    {
     "data": {
      "text/plain": [
       "array([0.90461538, 0.3868368 ])"
      ]
     },
     "execution_count": 19,
     "metadata": {},
     "output_type": "execute_result"
    }
   ],
   "source": [
    "precision"
   ]
  },
  {
   "cell_type": "code",
   "execution_count": 20,
   "metadata": {
    "colab": {
     "base_uri": "https://localhost:8080/",
     "height": 34
    },
    "colab_type": "code",
    "executionInfo": {
     "elapsed": 704,
     "status": "ok",
     "timestamp": 1574326625225,
     "user": {
      "displayName": "Sharoon Saxena",
      "photoUrl": "https://lh3.googleusercontent.com/a-/AAuE7mA06b2KEfgpAIC1tQCip2ka2KqXrCY2GfWW9Fww=s64",
      "userId": "01167841530696023488"
     },
     "user_tz": -330
    },
    "id": "6P67H95bnq1G",
    "outputId": "5577a845-927a-4c17-c0f8-a923a2be4130"
   },
   "outputs": [
    {
     "data": {
      "text/plain": [
       "array([0.74346727, 0.67368421])"
      ]
     },
     "execution_count": 20,
     "metadata": {},
     "output_type": "execute_result"
    }
   ],
   "source": [
    "recall"
   ]
  },
  {
   "cell_type": "code",
   "execution_count": 21,
   "metadata": {
    "colab": {
     "base_uri": "https://localhost:8080/",
     "height": 34
    },
    "colab_type": "code",
    "executionInfo": {
     "elapsed": 977,
     "status": "ok",
     "timestamp": 1574326628383,
     "user": {
      "displayName": "Sharoon Saxena",
      "photoUrl": "https://lh3.googleusercontent.com/a-/AAuE7mA06b2KEfgpAIC1tQCip2ka2KqXrCY2GfWW9Fww=s64",
      "userId": "01167841530696023488"
     },
     "user_tz": -330
    },
    "id": "IiaT7XlFoD1W",
    "outputId": "61184981-3189-4441-e7b4-ef0d690883e1"
   },
   "outputs": [
    {
     "data": {
      "text/plain": [
       "array([0.81616286, 0.49146758])"
      ]
     },
     "execution_count": 21,
     "metadata": {},
     "output_type": "execute_result"
    }
   ],
   "source": [
    "f1"
   ]
  },
  {
   "cell_type": "code",
   "execution_count": 22,
   "metadata": {
    "colab": {
     "base_uri": "https://localhost:8080/",
     "height": 170
    },
    "colab_type": "code",
    "executionInfo": {
     "elapsed": 1031,
     "status": "ok",
     "timestamp": 1574326635313,
     "user": {
      "displayName": "Sharoon Saxena",
      "photoUrl": "https://lh3.googleusercontent.com/a-/AAuE7mA06b2KEfgpAIC1tQCip2ka2KqXrCY2GfWW9Fww=s64",
      "userId": "01167841530696023488"
     },
     "user_tz": -330
    },
    "id": "15HWHefUDosH",
    "outputId": "97ff996c-08c1-4c23-8723-b9937002a7e8"
   },
   "outputs": [
    {
     "name": "stdout",
     "output_type": "stream",
     "text": [
      "              precision    recall  f1-score   support\n",
      "\n",
      "           0       0.90      0.74      0.82      3559\n",
      "           1       0.39      0.67      0.49       855\n",
      "\n",
      "    accuracy                           0.73      4414\n",
      "   macro avg       0.65      0.71      0.65      4414\n",
      "weighted avg       0.80      0.73      0.75      4414\n",
      "\n"
     ]
    }
   ],
   "source": [
    "from sklearn.metrics import classification_report\n",
    "k = classification_report(y_test, predicted_values)\n",
    "print(k)"
   ]
  },
  {
   "cell_type": "markdown",
   "metadata": {
    "colab_type": "text",
    "id": "enlkFtQKR2RQ"
   },
   "source": [
    "## Precision-Recall Curve"
   ]
  },
  {
   "cell_type": "code",
   "execution_count": 23,
   "metadata": {
    "colab": {
     "base_uri": "https://localhost:8080/",
     "height": 34
    },
    "colab_type": "code",
    "executionInfo": {
     "elapsed": 1112,
     "status": "ok",
     "timestamp": 1574326662143,
     "user": {
      "displayName": "Sharoon Saxena",
      "photoUrl": "https://lh3.googleusercontent.com/a-/AAuE7mA06b2KEfgpAIC1tQCip2ka2KqXrCY2GfWW9Fww=s64",
      "userId": "01167841530696023488"
     },
     "user_tz": -330
    },
    "id": "0zFzSzqfSj5B",
    "outputId": "f52119ec-8da9-48a6-c382-fed01cf1e284"
   },
   "outputs": [
    {
     "data": {
      "text/plain": [
       "((4414,), (4414,), (4413,))"
      ]
     },
     "execution_count": 23,
     "metadata": {},
     "output_type": "execute_result"
    }
   ],
   "source": [
    "# gathering Precision/recall scores for different thresholds\n",
    "from sklearn.metrics import precision_recall_curve\n",
    "precision_points, recall_points, threshold_points = precision_recall_curve(y_test, predicted_probabilities[:,1])\n",
    "precision_points.shape, recall_points.shape, threshold_points.shape"
   ]
  },
  {
   "cell_type": "code",
   "execution_count": 24,
   "metadata": {
    "colab": {
     "base_uri": "https://localhost:8080/",
     "height": 511
    },
    "colab_type": "code",
    "executionInfo": {
     "elapsed": 1373,
     "status": "ok",
     "timestamp": 1574326690825,
     "user": {
      "displayName": "Sharoon Saxena",
      "photoUrl": "https://lh3.googleusercontent.com/a-/AAuE7mA06b2KEfgpAIC1tQCip2ka2KqXrCY2GfWW9Fww=s64",
      "userId": "01167841530696023488"
     },
     "user_tz": -330
    },
    "id": "62tsgH2Cqwa8",
    "outputId": "bce40801-cd09-459a-8a7f-c3b1de5fd173"
   },
   "outputs": [
    {
     "data": {
      "text/plain": [
       "<matplotlib.legend.Legend at 0x14aeb644d00>"
      ]
     },
     "execution_count": 24,
     "metadata": {},
     "output_type": "execute_result"
    },
    {
     "data": {
      "image/png": "[encoded data removed]",
      "text/plain": [
       "<Figure size 700x500 with 1 Axes>"
      ]
     },
     "metadata": {},
     "output_type": "display_data"
    }
   ],
   "source": [
    "plt.figure(figsize = (7,5), dpi = 100)\n",
    "plt.plot( threshold_points, precision_points[:-1], color = 'green', label = 'Precision Curve')\n",
    "plt.plot( threshold_points, recall_points[:-1], color = 'orange', label = 'Recall Curve')\n",
    "plt.xlabel('Threshold Points', fontsize = 15)\n",
    "plt.ylabel('Score', fontsize = 15)\n",
    "plt.title('Precision-Recall tradeoff', fontsize = 20)\n",
    "plt.legend()"
   ]
  },
  {
   "cell_type": "markdown",
   "metadata": {
    "colab_type": "text",
    "id": "ze7jnC6fTB7m"
   },
   "source": [
    "## AUC-ROC Curve"
   ]
  },
  {
   "cell_type": "code",
   "execution_count": 25,
   "metadata": {
    "colab": {},
    "colab_type": "code",
    "id": "hE13p6dmsDiq"
   },
   "outputs": [],
   "source": [
    "from sklearn.metrics import roc_curve , roc_auc_score\n",
    "fpr, tpr, threshold = roc_curve(y_test, predicted_probabilities[:,1])"
   ]
  },
  {
   "cell_type": "code",
   "execution_count": 26,
   "metadata": {
    "colab": {
     "base_uri": "https://localhost:8080/",
     "height": 511
    },
    "colab_type": "code",
    "executionInfo": {
     "elapsed": 1289,
     "status": "ok",
     "timestamp": 1574326780573,
     "user": {
      "displayName": "Sharoon Saxena",
      "photoUrl": "https://lh3.googleusercontent.com/a-/AAuE7mA06b2KEfgpAIC1tQCip2ka2KqXrCY2GfWW9Fww=s64",
      "userId": "01167841530696023488"
     },
     "user_tz": -330
    },
    "id": "T8vSEmWluSon",
    "outputId": "0936e3fc-b00b-41af-ffac-46c16fa58991"
   },
   "outputs": [
    {
     "data": {
      "image/png": "[encoded data removed]",
      "text/plain": [
       "<Figure size 700x500 with 1 Axes>"
      ]
     },
     "metadata": {},
     "output_type": "display_data"
    },
    {
     "data": {
      "text/plain": [
       "0.7617485692314517"
      ]
     },
     "execution_count": 26,
     "metadata": {},
     "output_type": "execute_result"
    }
   ],
   "source": [
    "plt.figure(figsize = (7,5), dpi = 100)\n",
    "plt.plot( fpr, tpr, color = 'green')\n",
    "plt.plot( [0,1], [0,1], label = 'baseline', color = 'red')\n",
    "plt.xlabel('FPR', fontsize = 15)\n",
    "plt.ylabel('TPR', fontsize = 15)\n",
    "plt.title('AUC-ROC', fontsize = 20)\n",
    "plt.show()\n",
    "roc_auc_score(y_test, predicted_probabilities[:,1])"
   ]
  },
  {
   "cell_type": "markdown",
   "metadata": {
    "colab_type": "text",
    "id": "P3pqMgqrWzaF"
   },
   "source": [
    "## Coefficient Plot"
   ]
  },
  {
   "cell_type": "code",
   "execution_count": 27,
   "metadata": {
    "colab": {
     "base_uri": "https://localhost:8080/",
     "height": 204
    },
    "colab_type": "code",
    "executionInfo": {
     "elapsed": 2278,
     "status": "ok",
     "timestamp": 1574326802929,
     "user": {
      "displayName": "Sharoon Saxena",
      "photoUrl": "https://lh3.googleusercontent.com/a-/AAuE7mA06b2KEfgpAIC1tQCip2ka2KqXrCY2GfWW9Fww=s64",
      "userId": "01167841530696023488"
     },
     "user_tz": -330
    },
    "id": "TAOiE2YVvj62",
    "outputId": "c6af5d92-d70d-4993-de4d-f147381a3bd6"
   },
   "outputs": [
    {
     "data": {
      "text/html": [
       "<div>\n",
       "<style scoped>\n",
       "    .dataframe tbody tr th:only-of-type {\n",
       "        vertical-align: middle;\n",
       "    }\n",
       "\n",
       "    .dataframe tbody tr th {\n",
       "        vertical-align: top;\n",
       "    }\n",
       "\n",
       "    .dataframe thead th {\n",
       "        text-align: right;\n",
       "    }\n",
       "</style>\n",
       "<table border=\"1\" class=\"dataframe\">\n",
       "  <thead>\n",
       "    <tr style=\"text-align: right;\">\n",
       "      <th></th>\n",
       "      <th>coefficients</th>\n",
       "      <th>variable</th>\n",
       "    </tr>\n",
       "  </thead>\n",
       "  <tbody>\n",
       "    <tr>\n",
       "      <th>9</th>\n",
       "      <td>-1.953858</td>\n",
       "      <td>current_balance</td>\n",
       "    </tr>\n",
       "    <tr>\n",
       "      <th>13</th>\n",
       "      <td>-0.532750</td>\n",
       "      <td>current_month_credit</td>\n",
       "    </tr>\n",
       "    <tr>\n",
       "      <th>10</th>\n",
       "      <td>-0.370021</td>\n",
       "      <td>previous_month_end_balance</td>\n",
       "    </tr>\n",
       "    <tr>\n",
       "      <th>17</th>\n",
       "      <td>-0.363334</td>\n",
       "      <td>current_month_balance</td>\n",
       "    </tr>\n",
       "    <tr>\n",
       "      <th>18</th>\n",
       "      <td>-0.288405</td>\n",
       "      <td>previous_month_balance</td>\n",
       "    </tr>\n",
       "  </tbody>\n",
       "</table>\n",
       "</div>"
      ],
      "text/plain": [
       "    coefficients                    variable\n",
       "9      -1.953858             current_balance\n",
       "13     -0.532750        current_month_credit\n",
       "10     -0.370021  previous_month_end_balance\n",
       "17     -0.363334       current_month_balance\n",
       "18     -0.288405      previous_month_balance"
      ]
     },
     "execution_count": 27,
     "metadata": {},
     "output_type": "execute_result"
    }
   ],
   "source": [
    "# arranging the data\n",
    "c = classifier.coef_.reshape(-1)\n",
    "x = X.columns\n",
    "\n",
    "coeff_plot = pd.DataFrame( {\n",
    "                            'coefficients': c,\n",
    "                            'variable' : x\n",
    "                            })\n",
    "\n",
    "# sorting the values\n",
    "coeff_plot = coeff_plot.sort_values(by = 'coefficients')\n",
    "coeff_plot.head()"
   ]
  },
  {
   "cell_type": "code",
   "execution_count": 28,
   "metadata": {
    "colab": {
     "base_uri": "https://localhost:8080/",
     "height": 697
    },
    "colab_type": "code",
    "executionInfo": {
     "elapsed": 3600,
     "status": "ok",
     "timestamp": 1574326807318,
     "user": {
      "displayName": "Sharoon Saxena",
      "photoUrl": "https://lh3.googleusercontent.com/a-/AAuE7mA06b2KEfgpAIC1tQCip2ka2KqXrCY2GfWW9Fww=s64",
      "userId": "01167841530696023488"
     },
     "user_tz": -330
    },
    "id": "XfzIBddPxh6L",
    "outputId": "0a5da9ba-bd9c-40a6-dc55-2942f64bce4d"
   },
   "outputs": [
    {
     "data": {
      "text/plain": [
       "Text(0.5, 1.0, 'Coefficient plot')"
      ]
     },
     "execution_count": 28,
     "metadata": {},
     "output_type": "execute_result"
    },
    {
     "data": {
      "image/png": "[encoded data removed]",
      "text/plain": [
       "<Figure size 960x720 with 1 Axes>"
      ]
     },
     "metadata": {},
     "output_type": "display_data"
    }
   ],
   "source": [
    "plt.figure(figsize=(8, 6), dpi=120)\n",
    "plt.barh( coeff_plot['variable'] , coeff_plot['coefficients'] )\n",
    "plt.xlabel( \"Coefficient Magnitude\", fontsize = 15)\n",
    "plt.ylabel('Variables', fontsize = 15)\n",
    "plt.title('Coefficient plot', fontsize = 20)"
   ]
  },
  {
   "cell_type": "code",
   "execution_count": null,
   "metadata": {
    "colab": {},
    "colab_type": "code",
    "id": "A5aNYaAgvQUu"
   },
   "outputs": [],
   "source": []
  },
  {
   "cell_type": "code",
   "execution_count": null,
   "metadata": {},
   "outputs": [],
   "source": []
  }
 ],
 "metadata": {
  "colab": {
   "collapsed_sections": [],
   "name": "Topic3.ipynb",
   "provenance": []
  },
  "kernelspec": {
   "display_name": "Python 3 (ipykernel)",
   "language": "python",
   "name": "python3"
  },
  "language_info": {
   "codemirror_mode": {
    "name": "ipython",
    "version": 3
   },
   "file_extension": ".py",
   "mimetype": "text/x-python",
   "name": "python",
   "nbconvert_exporter": "python",
   "pygments_lexer": "ipython3",
   "version": "3.10.9"
  }
 },
 "nbformat": 4,
 "nbformat_minor": 1
}
